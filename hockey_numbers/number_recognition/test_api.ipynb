{
 "cells": [
  {
   "cell_type": "markdown",
   "metadata": {},
   "source": [
    "# CREATION MODEL USING BASE MODEL"
   ]
  },
  {
   "cell_type": "code",
   "execution_count": null,
   "metadata": {
    "collapsed": true
   },
   "outputs": [],
   "source": [
    "MODEL_FILE = 'models/vgg16/VGG_ILSVRC_16_layers_deploy.prototxt'\n",
    "CAFFEMODEL = 'models/vgg16/VGG_ILSVRC_16_layers.caffemodel'\n",
    "TRAIN_PATH = ''\n",
    "TEST_PATh = ''"
   ]
  },
  {
   "cell_type": "code",
   "execution_count": 9,
   "metadata": {
    "collapsed": false
   },
   "outputs": [],
   "source": [
    "import caffe_model\n",
    "import caffe_model.model\n",
    "from caffe_model.convolutions import ConvolutionLayer\n",
    "from caffe_model.data_layers import DataLayer"
   ]
  },
  {
   "cell_type": "code",
   "execution_count": 12,
   "metadata": {
    "collapsed": false
   },
   "outputs": [],
   "source": [
    "model = caffe_model.model.CaffeNetworkModel()\n",
    "layer1 = DataLayer(name='data_mnist_train', source=TRAIN_PATH, batch_size=16)\n",
    "named_slots_out=layer1.slots_out_names()\n",
    "named_slots_out = zip(named_slots_out, range(len(named_slots_out)))\n",
    "model.add_layer(layer1, named_slots_out=named_slots_out)"
   ]
  },
  {
   "cell_type": "code",
   "execution_count": 13,
   "metadata": {
    "collapsed": false
   },
   "outputs": [],
   "source": [
    "base_model  = caffe_model.model.CaffeNetworkModel(MODEL_FILE)\n",
    "\n",
    "model.merge(base_model, layer_slot_id=('data_mnist_train', 0))\n",
    "model.get_net_params()"
   ]
  },
  {
   "cell_type": "code",
   "execution_count": 20,
   "metadata": {
    "collapsed": false
   },
   "outputs": [
    {
     "name": "stdout",
     "output_type": "stream",
     "text": [
      "name: \"fc6\"\n",
      "type: \"InnerProduct\"\n",
      "bottom: \"pool5\"\n",
      "inner_product_param {\n",
      "  num_output: 4096\n",
      "}\n",
      "\n"
     ]
    },
    {
     "data": {
      "text/plain": [
       "name: \"GeneratedModel_14_04_2017_01_53\"\n",
       "layer {\n",
       "  name: \"input\"\n",
       "  type: \"Data\"\n",
       "  top: \"input_data\"\n",
       "  top: \"input_label\"\n",
       "  data_param {\n",
       "    source: \"\"\n",
       "    batch_size: 16\n",
       "    backend: LMDB\n",
       "  }\n",
       "}\n",
       "layer {\n",
       "  name: \"relu1_1\"\n",
       "  type: \"ReLU\"\n",
       "  bottom: \"input_data\"\n",
       "  top: \"conv1_1\"\n",
       "}\n",
       "layer {\n",
       "  name: \"conv1_2\"\n",
       "  type: \"Convolution\"\n",
       "  bottom: \"conv1_1\"\n",
       "  top: \"conv1_2\"\n",
       "  convolution_param {\n",
       "    num_output: 64\n",
       "    pad: 1\n",
       "    kernel_size: 3\n",
       "  }\n",
       "}\n",
       "layer {\n",
       "  name: \"relu1_2\"\n",
       "  type: \"ReLU\"\n",
       "  bottom: \"conv1_2\"\n",
       "  top: \"conv1_2\"\n",
       "}\n",
       "layer {\n",
       "  name: \"pool1\"\n",
       "  type: \"Pooling\"\n",
       "  bottom: \"conv1_2\"\n",
       "  top: \"pool1\"\n",
       "  pooling_param {\n",
       "    pool: MAX\n",
       "    kernel_size: 2\n",
       "    stride: 2\n",
       "  }\n",
       "}\n",
       "layer {\n",
       "  name: \"conv2_1\"\n",
       "  type: \"Convolution\"\n",
       "  bottom: \"pool1\"\n",
       "  top: \"conv2_1\"\n",
       "  convolution_param {\n",
       "    num_output: 128\n",
       "    pad: 1\n",
       "    kernel_size: 3\n",
       "  }\n",
       "}\n",
       "layer {\n",
       "  name: \"relu2_1\"\n",
       "  type: \"ReLU\"\n",
       "  bottom: \"conv2_1\"\n",
       "  top: \"conv2_1\"\n",
       "}\n",
       "layer {\n",
       "  name: \"conv2_2\"\n",
       "  type: \"Convolution\"\n",
       "  bottom: \"conv2_1\"\n",
       "  top: \"conv2_2\"\n",
       "  convolution_param {\n",
       "    num_output: 128\n",
       "    pad: 1\n",
       "    kernel_size: 3\n",
       "  }\n",
       "}\n",
       "layer {\n",
       "  name: \"relu2_2\"\n",
       "  type: \"ReLU\"\n",
       "  bottom: \"conv2_2\"\n",
       "  top: \"conv2_2\"\n",
       "}\n",
       "layer {\n",
       "  name: \"pool2\"\n",
       "  type: \"Pooling\"\n",
       "  bottom: \"conv2_2\"\n",
       "  top: \"pool2\"\n",
       "  pooling_param {\n",
       "    pool: MAX\n",
       "    kernel_size: 2\n",
       "    stride: 2\n",
       "  }\n",
       "}\n",
       "layer {\n",
       "  name: \"conv3_1\"\n",
       "  type: \"Convolution\"\n",
       "  bottom: \"pool2\"\n",
       "  top: \"conv3_1\"\n",
       "  convolution_param {\n",
       "    num_output: 256\n",
       "    pad: 1\n",
       "    kernel_size: 3\n",
       "  }\n",
       "}\n",
       "layer {\n",
       "  name: \"relu3_1\"\n",
       "  type: \"ReLU\"\n",
       "  bottom: \"conv3_1\"\n",
       "  top: \"conv3_1\"\n",
       "}\n",
       "layer {\n",
       "  name: \"conv3_2\"\n",
       "  type: \"Convolution\"\n",
       "  bottom: \"conv3_1\"\n",
       "  top: \"conv3_2\"\n",
       "  convolution_param {\n",
       "    num_output: 256\n",
       "    pad: 1\n",
       "    kernel_size: 3\n",
       "  }\n",
       "}\n",
       "layer {\n",
       "  name: \"relu3_2\"\n",
       "  type: \"ReLU\"\n",
       "  bottom: \"conv3_2\"\n",
       "  top: \"conv3_2\"\n",
       "}\n",
       "layer {\n",
       "  name: \"conv3_3\"\n",
       "  type: \"Convolution\"\n",
       "  bottom: \"conv3_2\"\n",
       "  top: \"conv3_3\"\n",
       "  convolution_param {\n",
       "    num_output: 256\n",
       "    pad: 1\n",
       "    kernel_size: 3\n",
       "  }\n",
       "}\n",
       "layer {\n",
       "  name: \"relu3_3\"\n",
       "  type: \"ReLU\"\n",
       "  bottom: \"conv3_3\"\n",
       "  top: \"conv3_3\"\n",
       "}\n",
       "layer {\n",
       "  name: \"pool3\"\n",
       "  type: \"Pooling\"\n",
       "  bottom: \"conv3_3\"\n",
       "  top: \"pool3\"\n",
       "  pooling_param {\n",
       "    pool: MAX\n",
       "    kernel_size: 2\n",
       "    stride: 2\n",
       "  }\n",
       "}\n",
       "layer {\n",
       "  name: \"conv4_1\"\n",
       "  type: \"Convolution\"\n",
       "  bottom: \"pool3\"\n",
       "  top: \"conv4_1\"\n",
       "  convolution_param {\n",
       "    num_output: 512\n",
       "    pad: 1\n",
       "    kernel_size: 3\n",
       "  }\n",
       "}\n",
       "layer {\n",
       "  name: \"relu4_1\"\n",
       "  type: \"ReLU\"\n",
       "  bottom: \"conv4_1\"\n",
       "  top: \"conv4_1\"\n",
       "}\n",
       "layer {\n",
       "  name: \"conv4_2\"\n",
       "  type: \"Convolution\"\n",
       "  bottom: \"conv4_1\"\n",
       "  top: \"conv4_2\"\n",
       "  convolution_param {\n",
       "    num_output: 512\n",
       "    pad: 1\n",
       "    kernel_size: 3\n",
       "  }\n",
       "}\n",
       "layer {\n",
       "  name: \"relu4_2\"\n",
       "  type: \"ReLU\"\n",
       "  bottom: \"conv4_2\"\n",
       "  top: \"conv4_2\"\n",
       "}\n",
       "layer {\n",
       "  name: \"conv4_3\"\n",
       "  type: \"Convolution\"\n",
       "  bottom: \"conv4_2\"\n",
       "  top: \"conv4_3\"\n",
       "  convolution_param {\n",
       "    num_output: 512\n",
       "    pad: 1\n",
       "    kernel_size: 3\n",
       "  }\n",
       "}\n",
       "layer {\n",
       "  name: \"relu4_3\"\n",
       "  type: \"ReLU\"\n",
       "  bottom: \"conv4_3\"\n",
       "  top: \"conv4_3\"\n",
       "}\n",
       "layer {\n",
       "  name: \"pool4\"\n",
       "  type: \"Pooling\"\n",
       "  bottom: \"conv4_3\"\n",
       "  top: \"pool4\"\n",
       "  pooling_param {\n",
       "    pool: MAX\n",
       "    kernel_size: 2\n",
       "    stride: 2\n",
       "  }\n",
       "}\n",
       "layer {\n",
       "  name: \"conv5_1\"\n",
       "  type: \"Convolution\"\n",
       "  bottom: \"pool4\"\n",
       "  top: \"conv5_1\"\n",
       "  convolution_param {\n",
       "    num_output: 512\n",
       "    pad: 1\n",
       "    kernel_size: 3\n",
       "  }\n",
       "}\n",
       "layer {\n",
       "  name: \"relu5_1\"\n",
       "  type: \"ReLU\"\n",
       "  bottom: \"conv5_1\"\n",
       "  top: \"conv5_1\"\n",
       "}\n",
       "layer {\n",
       "  name: \"conv5_2\"\n",
       "  type: \"Convolution\"\n",
       "  bottom: \"conv5_1\"\n",
       "  top: \"conv5_2\"\n",
       "  convolution_param {\n",
       "    num_output: 512\n",
       "    pad: 1\n",
       "    kernel_size: 3\n",
       "  }\n",
       "}\n",
       "layer {\n",
       "  name: \"relu5_2\"\n",
       "  type: \"ReLU\"\n",
       "  bottom: \"conv5_2\"\n",
       "  top: \"conv5_2\"\n",
       "}\n",
       "layer {\n",
       "  name: \"conv5_3\"\n",
       "  type: \"Convolution\"\n",
       "  bottom: \"conv5_2\"\n",
       "  top: \"conv5_3\"\n",
       "  convolution_param {\n",
       "    num_output: 512\n",
       "    pad: 1\n",
       "    kernel_size: 3\n",
       "  }\n",
       "}\n",
       "layer {\n",
       "  name: \"relu5_3\"\n",
       "  type: \"ReLU\"\n",
       "  bottom: \"conv5_3\"\n",
       "  top: \"conv5_3\"\n",
       "}\n",
       "layer {\n",
       "  name: \"pool5\"\n",
       "  type: \"Pooling\"\n",
       "  bottom: \"conv5_3\"\n",
       "  top: \"pool5\"\n",
       "  pooling_param {\n",
       "    pool: MAX\n",
       "    kernel_size: 2\n",
       "    stride: 2\n",
       "  }\n",
       "}\n",
       "layer {\n",
       "  name: \"fc6\"\n",
       "  type: \"InnerProduct\"\n",
       "  bottom: \"pool5\"\n",
       "  inner_product_param {\n",
       "    num_output: 4096\n",
       "  }\n",
       "}"
      ]
     },
     "execution_count": 20,
     "metadata": {},
     "output_type": "execute_result"
    }
   ],
   "source": [
    "base_model  = caffe_model.model.CaffeNetworkModel(MODEL_FILE)\n",
    "\n",
    "base_model.add_layer(DataLayer(name='input', source=TRAIN_PATH, batch_size=16), \n",
    "                     named_slots_out=[('data', 0), ('labels', 1)])\n",
    "base_model.get_net_params()\n"
   ]
  },
  {
   "cell_type": "markdown",
   "metadata": {},
   "source": [
    "TESTING MODEL API"
   ]
  },
  {
   "cell_type": "code",
   "execution_count": 1,
   "metadata": {
    "collapsed": false
   },
   "outputs": [],
   "source": [
    "import caffe\n",
    "from caffe import layers as L\n",
    "from caffe.proto import caffe_pb2\n",
    "import models"
   ]
  },
  {
   "cell_type": "code",
   "execution_count": 2,
   "metadata": {
    "collapsed": false
   },
   "outputs": [
    {
     "name": "stdout",
     "output_type": "stream",
     "text": [
      "None\n",
      "None\n",
      "dict_items([('labels', <caffe_model.slots.LayerSlotOut object at 0x7fc404ff7278>), ('data', <caffe_model.slots.LayerSlotOut object at 0x7fc404ff7240>)])\n",
      "labels\n",
      "data\n",
      "['data', 'labels']\n",
      "[]\n",
      "test_data\n",
      "['data', 'labels']\n",
      "[]\n",
      "train_data\n",
      "['conv1_2']\n",
      "[None]\n",
      "conv1_2\n"
     ]
    },
    {
     "ename": "TypeError",
     "evalue": "None has type <class 'NoneType'>, but expected one of: (<class 'bytes'>, <class 'str'>)",
     "output_type": "error",
     "traceback": [
      "\u001b[0;31m---------------------------------------------------------------------------\u001b[0m",
      "\u001b[0;31mTypeError\u001b[0m                                 Traceback (most recent call last)",
      "\u001b[0;32m<ipython-input-2-f76c22c3928b>\u001b[0m in \u001b[0;36m<module>\u001b[0;34m()\u001b[0m\n\u001b[1;32m      1\u001b[0m \u001b[0mvgg_model\u001b[0m \u001b[0;34m=\u001b[0m \u001b[0mmodels\u001b[0m\u001b[0;34m.\u001b[0m\u001b[0mVGG16\u001b[0m\u001b[0;34m(\u001b[0m\u001b[0;34m)\u001b[0m\u001b[0;34m\u001b[0m\u001b[0m\n\u001b[0;32m----> 2\u001b[0;31m \u001b[0mm1\u001b[0m\u001b[0;34m,\u001b[0m \u001b[0mm2\u001b[0m \u001b[0;34m=\u001b[0m \u001b[0mvgg_model\u001b[0m\u001b[0;34m.\u001b[0m\u001b[0m_create_model\u001b[0m\u001b[0;34m(\u001b[0m\u001b[0;34m)\u001b[0m\u001b[0;34m\u001b[0m\u001b[0m\n\u001b[0m",
      "\u001b[0;32m/home/nina/Documents/hockey_number/hockey_numbers/number_recognition/models.py\u001b[0m in \u001b[0;36m_create_model\u001b[0;34m(self)\u001b[0m\n\u001b[1;32m     84\u001b[0m         \u001b[0;31m#add_deploy_layers(deploy_model, last_layer)\u001b[0m\u001b[0;34m\u001b[0m\u001b[0;34m\u001b[0m\u001b[0m\n\u001b[1;32m     85\u001b[0m         \u001b[0mdeploy_model\u001b[0m \u001b[0;34m=\u001b[0m \u001b[0;32mNone\u001b[0m\u001b[0;34m\u001b[0m\u001b[0m\n\u001b[0;32m---> 86\u001b[0;31m         \u001b[0;32mreturn\u001b[0m \u001b[0mtrain_model\u001b[0m\u001b[0;34m.\u001b[0m\u001b[0mget_net_params\u001b[0m\u001b[0;34m(\u001b[0m\u001b[0;34m)\u001b[0m\u001b[0;34m,\u001b[0m\u001b[0;31m \u001b[0m\u001b[0;31m\\\u001b[0m\u001b[0;34m\u001b[0m\u001b[0m\n\u001b[0m\u001b[1;32m     87\u001b[0m                \u001b[0;32mNone\u001b[0m \u001b[0;31m#deploy_model.get_net_params()\u001b[0m\u001b[0;34m\u001b[0m\u001b[0m\n\u001b[1;32m     88\u001b[0m \u001b[0;34m\u001b[0m\u001b[0m\n",
      "\u001b[0;32m/home/nina/Documents/hockey_number/hockey_numbers/number_recognition/caffe_model/model.py\u001b[0m in \u001b[0;36mget_net_params\u001b[0;34m(self, phase)\u001b[0m\n\u001b[1;32m    202\u001b[0m             \u001b[0mproto_layer\u001b[0m \u001b[0;34m=\u001b[0m \u001b[0mdeepcopy\u001b[0m\u001b[0;34m(\u001b[0m\u001b[0mlayer\u001b[0m\u001b[0;34m.\u001b[0m\u001b[0mparams\u001b[0m\u001b[0;34m)\u001b[0m\u001b[0;34m\u001b[0m\u001b[0m\n\u001b[1;32m    203\u001b[0m             \u001b[0;32mdel\u001b[0m \u001b[0mproto_layer\u001b[0m\u001b[0;34m.\u001b[0m\u001b[0mbottom\u001b[0m\u001b[0;34m[\u001b[0m\u001b[0;34m:\u001b[0m\u001b[0;34m]\u001b[0m\u001b[0;34m\u001b[0m\u001b[0m\n\u001b[0;32m--> 204\u001b[0;31m             \u001b[0mproto_layer\u001b[0m\u001b[0;34m.\u001b[0m\u001b[0mbottom\u001b[0m\u001b[0;34m.\u001b[0m\u001b[0mextend\u001b[0m\u001b[0;34m(\u001b[0m\u001b[0mbottoms\u001b[0m\u001b[0;34m)\u001b[0m\u001b[0;34m\u001b[0m\u001b[0m\n\u001b[0m\u001b[1;32m    205\u001b[0m \u001b[0;34m\u001b[0m\u001b[0m\n\u001b[1;32m    206\u001b[0m             \u001b[0;32mdel\u001b[0m \u001b[0mproto_layer\u001b[0m\u001b[0;34m.\u001b[0m\u001b[0mtop\u001b[0m\u001b[0;34m[\u001b[0m\u001b[0;34m:\u001b[0m\u001b[0;34m]\u001b[0m\u001b[0;34m\u001b[0m\u001b[0m\n",
      "\u001b[0;32m/home/nina/anaconda3/lib/python3.5/site-packages/google/protobuf/internal/containers.py\u001b[0m in \u001b[0;36mextend\u001b[0;34m(self, elem_seq)\u001b[0m\n\u001b[1;32m    273\u001b[0m       \u001b[0;32mraise\u001b[0m\u001b[0;34m\u001b[0m\u001b[0m\n\u001b[1;32m    274\u001b[0m \u001b[0;34m\u001b[0m\u001b[0m\n\u001b[0;32m--> 275\u001b[0;31m     \u001b[0mnew_values\u001b[0m \u001b[0;34m=\u001b[0m \u001b[0;34m[\u001b[0m\u001b[0mself\u001b[0m\u001b[0;34m.\u001b[0m\u001b[0m_type_checker\u001b[0m\u001b[0;34m.\u001b[0m\u001b[0mCheckValue\u001b[0m\u001b[0;34m(\u001b[0m\u001b[0melem\u001b[0m\u001b[0;34m)\u001b[0m \u001b[0;32mfor\u001b[0m \u001b[0melem\u001b[0m \u001b[0;32min\u001b[0m \u001b[0melem_seq_iter\u001b[0m\u001b[0;34m]\u001b[0m\u001b[0;34m\u001b[0m\u001b[0m\n\u001b[0m\u001b[1;32m    276\u001b[0m     \u001b[0;32mif\u001b[0m \u001b[0mnew_values\u001b[0m\u001b[0;34m:\u001b[0m\u001b[0;34m\u001b[0m\u001b[0m\n\u001b[1;32m    277\u001b[0m       \u001b[0mself\u001b[0m\u001b[0;34m.\u001b[0m\u001b[0m_values\u001b[0m\u001b[0;34m.\u001b[0m\u001b[0mextend\u001b[0m\u001b[0;34m(\u001b[0m\u001b[0mnew_values\u001b[0m\u001b[0;34m)\u001b[0m\u001b[0;34m\u001b[0m\u001b[0m\n",
      "\u001b[0;32m/home/nina/anaconda3/lib/python3.5/site-packages/google/protobuf/internal/containers.py\u001b[0m in \u001b[0;36m<listcomp>\u001b[0;34m(.0)\u001b[0m\n\u001b[1;32m    273\u001b[0m       \u001b[0;32mraise\u001b[0m\u001b[0;34m\u001b[0m\u001b[0m\n\u001b[1;32m    274\u001b[0m \u001b[0;34m\u001b[0m\u001b[0m\n\u001b[0;32m--> 275\u001b[0;31m     \u001b[0mnew_values\u001b[0m \u001b[0;34m=\u001b[0m \u001b[0;34m[\u001b[0m\u001b[0mself\u001b[0m\u001b[0;34m.\u001b[0m\u001b[0m_type_checker\u001b[0m\u001b[0;34m.\u001b[0m\u001b[0mCheckValue\u001b[0m\u001b[0;34m(\u001b[0m\u001b[0melem\u001b[0m\u001b[0;34m)\u001b[0m \u001b[0;32mfor\u001b[0m \u001b[0melem\u001b[0m \u001b[0;32min\u001b[0m \u001b[0melem_seq_iter\u001b[0m\u001b[0;34m]\u001b[0m\u001b[0;34m\u001b[0m\u001b[0m\n\u001b[0m\u001b[1;32m    276\u001b[0m     \u001b[0;32mif\u001b[0m \u001b[0mnew_values\u001b[0m\u001b[0;34m:\u001b[0m\u001b[0;34m\u001b[0m\u001b[0m\n\u001b[1;32m    277\u001b[0m       \u001b[0mself\u001b[0m\u001b[0;34m.\u001b[0m\u001b[0m_values\u001b[0m\u001b[0;34m.\u001b[0m\u001b[0mextend\u001b[0m\u001b[0;34m(\u001b[0m\u001b[0mnew_values\u001b[0m\u001b[0;34m)\u001b[0m\u001b[0;34m\u001b[0m\u001b[0m\n",
      "\u001b[0;32m/home/nina/anaconda3/lib/python3.5/site-packages/google/protobuf/internal/type_checkers.py\u001b[0m in \u001b[0;36mCheckValue\u001b[0;34m(self, proposed_value)\u001b[0m\n\u001b[1;32m    174\u001b[0m       message = ('%.1024r has type %s, but expected one of: %s' %\n\u001b[1;32m    175\u001b[0m                  (proposed_value, type(proposed_value), (bytes, six.text_type)))\n\u001b[0;32m--> 176\u001b[0;31m       \u001b[0;32mraise\u001b[0m \u001b[0mTypeError\u001b[0m\u001b[0;34m(\u001b[0m\u001b[0mmessage\u001b[0m\u001b[0;34m)\u001b[0m\u001b[0;34m\u001b[0m\u001b[0m\n\u001b[0m\u001b[1;32m    177\u001b[0m \u001b[0;34m\u001b[0m\u001b[0m\n\u001b[1;32m    178\u001b[0m     \u001b[0;31m# If the value is of type 'bytes' make sure that it is valid UTF-8 data.\u001b[0m\u001b[0;34m\u001b[0m\u001b[0;34m\u001b[0m\u001b[0m\n",
      "\u001b[0;31mTypeError\u001b[0m: None has type <class 'NoneType'>, but expected one of: (<class 'bytes'>, <class 'str'>)"
     ]
    }
   ],
   "source": [
    "vgg_model = models.VGG16()\n",
    "m1, m2 = vgg_model._create_model()\n"
   ]
  },
  {
   "cell_type": "code",
   "execution_count": null,
   "metadata": {
    "collapsed": false
   },
   "outputs": [],
   "source": [
    "print(m1)"
   ]
  },
  {
   "cell_type": "code",
   "execution_count": null,
   "metadata": {
    "collapsed": true
   },
   "outputs": [],
   "source": []
  },
  {
   "cell_type": "code",
   "execution_count": null,
   "metadata": {
    "collapsed": true
   },
   "outputs": [],
   "source": []
  },
  {
   "cell_type": "code",
   "execution_count": null,
   "metadata": {
    "collapsed": true
   },
   "outputs": [],
   "source": []
  },
  {
   "cell_type": "code",
   "execution_count": 10,
   "metadata": {
    "collapsed": false
   },
   "outputs": [
    {
     "name": "stdout",
     "output_type": "stream",
     "text": [
      "mishka\n",
      "mishkamishka\n",
      "mishkamishkamishka\n",
      "mishkamishkamishkamishka\n"
     ]
    }
   ],
   "source": [
    "class Mishka:\n",
    "    _mishka=\"misha\"\n",
    "    def mishka(self, mishka):\n",
    "        if (mishka == \"mishka\"):\n",
    "            self._mishka = mishka\n",
    "        return self._mishka\n",
    "    \n",
    "    def mishutka(self, mishka):\n",
    "        return \"Mishutka!!!!\"\n",
    "    \n",
    "    def misha(self, misha):\n",
    "        for mishka in misha:\n",
    "            yield self._mishka * mishka\n",
    "            \n",
    "mishka = Mishka()\n",
    "mishka.mishka(\"mishka\")\n",
    "if (mishka.mishutka(mishka) == \"Mishutka!!!!\"):\n",
    "    for misha in mishka.misha([1, 2, 3, 4]):\n",
    "        print(misha)"
   ]
  },
  {
   "cell_type": "code",
   "execution_count": null,
   "metadata": {
    "collapsed": true
   },
   "outputs": [],
   "source": [
    "8,gf8lgfltfr8klgtfklgf9lh;hg9;lhg9lgftr9f9dkfd9kfd9k\n",
    "7kl;8fr7l8;frl8gfl8;g787k7tfr7l;rf;'pr'[;ptfrl\n",
    "                                       6i7kore6i7ort47iotr7tykireioler\n",
    "                                       9oriofrikr\n",
    "58i9d89reuireui\n",
    "]"
   ]
  }
 ],
 "metadata": {
  "kernelspec": {
   "display_name": "Python 3",
   "language": "python",
   "name": "python3"
  },
  "language_info": {
   "codemirror_mode": {
    "name": "ipython",
    "version": 3
   },
   "file_extension": ".py",
   "mimetype": "text/x-python",
   "name": "python",
   "nbconvert_exporter": "python",
   "pygments_lexer": "ipython3",
   "version": "3.5.2"
  }
 },
 "nbformat": 4,
 "nbformat_minor": 0
}
